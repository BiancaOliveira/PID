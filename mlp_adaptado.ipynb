{
 "cells": [
  {
   "attachments": {},
   "cell_type": "markdown",
   "id": "6f197c49",
   "metadata": {},
   "source": [
    "## Multi Layer Perceptron ( MLP )  __________________________________"
   ]
  },
  {
   "attachments": {},
   "cell_type": "markdown",
   "id": "7a2be32c",
   "metadata": {},
   "source": [
    "Importar as bibliotecas"
   ]
  },
  {
   "cell_type": "code",
   "execution_count": 3,
   "id": "415d24d6",
   "metadata": {},
   "outputs": [],
   "source": [
    "import pandas as pd \n",
    "import numpy as np \n",
    "from sklearn.preprocessing import normalize \n",
    "from sklearn.metrics import confusion_matrix, accuracy_score, f1_score\n",
    "import tensorflow as tf\n",
    "from keras.utils import np_utils"
   ]
  },
  {
   "attachments": {},
   "cell_type": "markdown",
   "id": "0040bf9d",
   "metadata": {},
   "source": [
    "### Carregar Base de Dados"
   ]
  },
  {
   "cell_type": "code",
   "execution_count": 4,
   "id": "d81a1d91",
   "metadata": {},
   "outputs": [
    {
     "data": {
      "text/html": [
       "<div>\n",
       "<style scoped>\n",
       "    .dataframe tbody tr th:only-of-type {\n",
       "        vertical-align: middle;\n",
       "    }\n",
       "\n",
       "    .dataframe tbody tr th {\n",
       "        vertical-align: top;\n",
       "    }\n",
       "\n",
       "    .dataframe thead th {\n",
       "        text-align: right;\n",
       "    }\n",
       "</style>\n",
       "<table border=\"1\" class=\"dataframe\">\n",
       "  <thead>\n",
       "    <tr style=\"text-align: right;\">\n",
       "      <th></th>\n",
       "      <th>SepalLength</th>\n",
       "      <th>SepalWidth</th>\n",
       "      <th>PetalLength</th>\n",
       "      <th>PetalWidth</th>\n",
       "      <th>Species</th>\n",
       "    </tr>\n",
       "  </thead>\n",
       "  <tbody>\n",
       "    <tr>\n",
       "      <th>41</th>\n",
       "      <td>4.5</td>\n",
       "      <td>2.3</td>\n",
       "      <td>1.3</td>\n",
       "      <td>0.3</td>\n",
       "      <td>Iris-setosa</td>\n",
       "    </tr>\n",
       "    <tr>\n",
       "      <th>147</th>\n",
       "      <td>6.5</td>\n",
       "      <td>3.0</td>\n",
       "      <td>5.2</td>\n",
       "      <td>2.0</td>\n",
       "      <td>Iris-virginica</td>\n",
       "    </tr>\n",
       "    <tr>\n",
       "      <th>12</th>\n",
       "      <td>4.8</td>\n",
       "      <td>3.0</td>\n",
       "      <td>1.4</td>\n",
       "      <td>0.1</td>\n",
       "      <td>Iris-setosa</td>\n",
       "    </tr>\n",
       "    <tr>\n",
       "      <th>104</th>\n",
       "      <td>6.5</td>\n",
       "      <td>3.0</td>\n",
       "      <td>5.8</td>\n",
       "      <td>2.2</td>\n",
       "      <td>Iris-virginica</td>\n",
       "    </tr>\n",
       "    <tr>\n",
       "      <th>116</th>\n",
       "      <td>6.5</td>\n",
       "      <td>3.0</td>\n",
       "      <td>5.5</td>\n",
       "      <td>1.8</td>\n",
       "      <td>Iris-virginica</td>\n",
       "    </tr>\n",
       "    <tr>\n",
       "      <th>32</th>\n",
       "      <td>5.2</td>\n",
       "      <td>4.1</td>\n",
       "      <td>1.5</td>\n",
       "      <td>0.1</td>\n",
       "      <td>Iris-setosa</td>\n",
       "    </tr>\n",
       "    <tr>\n",
       "      <th>37</th>\n",
       "      <td>4.9</td>\n",
       "      <td>3.1</td>\n",
       "      <td>1.5</td>\n",
       "      <td>0.1</td>\n",
       "      <td>Iris-setosa</td>\n",
       "    </tr>\n",
       "    <tr>\n",
       "      <th>55</th>\n",
       "      <td>5.7</td>\n",
       "      <td>2.8</td>\n",
       "      <td>4.5</td>\n",
       "      <td>1.3</td>\n",
       "      <td>Iris-versicolor</td>\n",
       "    </tr>\n",
       "    <tr>\n",
       "      <th>69</th>\n",
       "      <td>5.6</td>\n",
       "      <td>2.5</td>\n",
       "      <td>3.9</td>\n",
       "      <td>1.1</td>\n",
       "      <td>Iris-versicolor</td>\n",
       "    </tr>\n",
       "    <tr>\n",
       "      <th>31</th>\n",
       "      <td>5.4</td>\n",
       "      <td>3.4</td>\n",
       "      <td>1.5</td>\n",
       "      <td>0.4</td>\n",
       "      <td>Iris-setosa</td>\n",
       "    </tr>\n",
       "  </tbody>\n",
       "</table>\n",
       "</div>"
      ],
      "text/plain": [
       "     SepalLength  SepalWidth  PetalLength  PetalWidth          Species\n",
       "41           4.5         2.3          1.3         0.3      Iris-setosa\n",
       "147          6.5         3.0          5.2         2.0   Iris-virginica\n",
       "12           4.8         3.0          1.4         0.1      Iris-setosa\n",
       "104          6.5         3.0          5.8         2.2   Iris-virginica\n",
       "116          6.5         3.0          5.5         1.8   Iris-virginica\n",
       "32           5.2         4.1          1.5         0.1      Iris-setosa\n",
       "37           4.9         3.1          1.5         0.1      Iris-setosa\n",
       "55           5.7         2.8          4.5         1.3  Iris-versicolor\n",
       "69           5.6         2.5          3.9         1.1  Iris-versicolor\n",
       "31           5.4         3.4          1.5         0.4      Iris-setosa"
      ]
     },
     "execution_count": 4,
     "metadata": {},
     "output_type": "execute_result"
    }
   ],
   "source": [
    "data=pd.read_csv(\"data/folhas.csv\")\n",
    "data.sample(10)"
   ]
  },
  {
   "attachments": {},
   "cell_type": "markdown",
   "id": "ac037c39",
   "metadata": {},
   "source": [
    "###  Codificar as categorias"
   ]
  },
  {
   "cell_type": "code",
   "execution_count": 5,
   "id": "8cbf865f",
   "metadata": {},
   "outputs": [
    {
     "name": "stdout",
     "output_type": "stream",
     "text": [
      "     SepalLength  SepalWidth  PetalLength  PetalWidth Species\n",
      "108          6.7         2.5          5.8         1.8       2\n",
      "119          6.0         2.2          5.0         1.5       2\n",
      "136          6.3         3.4          5.6         2.4       2\n",
      "77           6.7         3.0          5.0         1.7       1\n",
      "85           6.0         3.4          4.5         1.6       1\n",
      "97           6.2         2.9          4.3         1.3       1\n",
      "131          7.9         3.8          6.4         2.0       2\n",
      "78           6.0         2.9          4.5         1.5       1\n",
      "138          6.0         3.0          4.8         1.8       2\n",
      "101          5.8         2.7          5.1         1.9       2\n"
     ]
    }
   ],
   "source": [
    "##### SE OS TIPOS DE FOLHAS JÁ VIEREM CLASSIFICADOS POR ÍNDICES, ISSO NÃO É NECESSÁRIO ###\n",
    "# data.loc[data[\"Species\"]==\"Iris-setosa\",\"Species\"]=0\n",
    "# data.loc[data[\"Species\"]==\"Iris-versicolor\",\"Species\"]=1\n",
    "# data.loc[data[\"Species\"]==\"Iris-virginica\",\"Species\"]=2\n",
    "\n"
   ]
  },
  {
   "attachments": {},
   "cell_type": "markdown",
   "id": "75419a67",
   "metadata": {},
   "source": [
    "### Separar dados descritivos das classes"
   ]
  },
  {
   "cell_type": "code",
   "execution_count": 6,
   "id": "40acf36e",
   "metadata": {},
   "outputs": [],
   "source": [
    "# Shuffle\n",
    "data=data.iloc[np.random.permutation(len(data))]\n",
    "print(data.sample(10))\n",
    "\n",
    "X=data.iloc[:,:-1].values\n",
    "y=data.iloc[:,-1].values\n",
    "\n",
    "print(\"Shape of X\",X.shape)\n",
    "print(\"Shape of y\",y.shape)"
   ]
  },
  {
   "attachments": {},
   "cell_type": "markdown",
   "id": "fac39aa1",
   "metadata": {},
   "source": [
    "### Dividir dados para treinamento, validação e teste"
   ]
  },
  {
   "cell_type": "code",
   "execution_count": 8,
   "id": "50c28d02",
   "metadata": {},
   "outputs": [],
   "source": [
    "from sklearn.model_selection import train_test_split\n",
    "from sklearn.preprocessing import normalize\n",
    "import numpy as np\n",
    "\n",
    "# Normalizar os dados\n",
    "X_normalized = normalize(X, axis=0)\n",
    "\n",
    "'''\n",
    "O ORIGINAL SEPARAVA ASSIM, O ADAIR DISSE PRA USAR 8 IMAGENS PROS TESTES NÉ? QUANTAS FOLHAS TEM EM CADA IMAGEM E QUANTAS TEM NO TOTAL?\n",
    "70% - conjunto de treinamento\n",
    "20% - conjunto de validação\n",
    "10% - conjunto de teste\n",
    "'''\n",
    "X_train_val, X_test, y_train_val, y_test = train_test_split(X_normalized, y, test_size=0.1, random_state=42)\n",
    "X_train, X_val, y_train, y_val = train_test_split(X_train_val, y_train_val, test_size=0.22, random_state=42)\n",
    "\n",
    "# Transformar os rótulos em categorias ### 6 CLASSES = [Folhado, Araçá, Quaresmeira, Pessegueiro, Coleus, Uva do mato]\n",
    "num_classes = 6\n",
    "y_train = np_utils.to_categorical(y_train, num_classes)\n",
    "y_val = np_utils.to_categorical(y_val, num_classes)\n",
    "y_test = np_utils.to_categorical(y_test, num_classes)"
   ]
  },
  {
   "attachments": {},
   "cell_type": "markdown",
   "id": "13792570",
   "metadata": {},
   "source": [
    "## Arquitetura do MLP"
   ]
  },
  {
   "cell_type": "code",
   "execution_count": 21,
   "id": "f1d2f647",
   "metadata": {},
   "outputs": [
    {
     "name": "stdout",
     "output_type": "stream",
     "text": [
      "Model: \"sequential_3\"\n",
      "_________________________________________________________________\n",
      " Layer (type)                Output Shape              Param #   \n",
      "=================================================================\n",
      " dense_12 (Dense)            (None, 16)                80        \n",
      "                                                                 \n",
      " dense_13 (Dense)            (None, 64)                1088      \n",
      "                                                                 \n",
      " dense_14 (Dense)            (None, 64)                4160      \n",
      "                                                                 \n",
      " dense_15 (Dense)            (None, 3)                 195       \n",
      "                                                                 \n",
      "=================================================================\n",
      "Total params: 5,523\n",
      "Trainable params: 5,523\n",
      "Non-trainable params: 0\n",
      "_________________________________________________________________\n"
     ]
    }
   ],
   "source": [
    "model = tf.keras.models.Sequential()\n",
    "\n",
    "model.add(tf.keras.layers.Dense(16,input_dim=4,activation='relu'))\n",
    "model.add(tf.keras.layers.Dense(64,activation='relu'))\n",
    "model.add(tf.keras.layers.Dense(64,activation='relu'))\n",
    "\n",
    "#model.add(tf.keras.layers.Dropout(0.2))\n",
    "model.add(tf.keras.layers.Dense(num_classes, activation='softmax'))\n",
    "\n",
    "model.compile(loss='categorical_crossentropy',optimizer='adam',metrics=['accuracy'])\n",
    "\n",
    "model.summary()"
   ]
  },
  {
   "attachments": {},
   "cell_type": "markdown",
   "id": "c9d6d701",
   "metadata": {},
   "source": [
    "### Treinar a rede"
   ]
  },
  {
   "cell_type": "code",
   "execution_count": 24,
   "id": "7f2495d4",
   "metadata": {},
   "outputs": [
    {
     "name": "stdout",
     "output_type": "stream",
     "text": [
      "Epoch 1/75\n",
      "6/6 [==============================] - 0s 81ms/step - loss: 1.0777 - accuracy: 0.4048 - val_loss: 1.0763 - val_accuracy: 0.3333\n",
      "Epoch 2/75\n",
      "6/6 [==============================] - 0s 11ms/step - loss: 1.0689 - accuracy: 0.4048 - val_loss: 1.0687 - val_accuracy: 0.3333\n",
      "Epoch 3/75\n",
      "6/6 [==============================] - 0s 9ms/step - loss: 1.0591 - accuracy: 0.3690 - val_loss: 1.0594 - val_accuracy: 0.3333\n",
      "Epoch 4/75\n",
      "6/6 [==============================] - 0s 8ms/step - loss: 1.0465 - accuracy: 0.3810 - val_loss: 1.0452 - val_accuracy: 0.3333\n",
      "Epoch 5/75\n",
      "6/6 [==============================] - 0s 9ms/step - loss: 1.0309 - accuracy: 0.4762 - val_loss: 1.0278 - val_accuracy: 0.6190\n",
      "Epoch 6/75\n",
      "6/6 [==============================] - 0s 9ms/step - loss: 1.0128 - accuracy: 0.6071 - val_loss: 1.0054 - val_accuracy: 0.7143\n",
      "Epoch 7/75\n",
      "6/6 [==============================] - 0s 9ms/step - loss: 0.9923 - accuracy: 0.6667 - val_loss: 0.9777 - val_accuracy: 0.8095\n",
      "Epoch 8/75\n",
      "6/6 [==============================] - 0s 9ms/step - loss: 0.9668 - accuracy: 0.8690 - val_loss: 0.9470 - val_accuracy: 1.0000\n",
      "Epoch 9/75\n",
      "6/6 [==============================] - 0s 8ms/step - loss: 0.9361 - accuracy: 0.9643 - val_loss: 0.9118 - val_accuracy: 1.0000\n",
      "Epoch 10/75\n",
      "6/6 [==============================] - 0s 18ms/step - loss: 0.9029 - accuracy: 0.9762 - val_loss: 0.8670 - val_accuracy: 0.9524\n",
      "Epoch 11/75\n",
      "6/6 [==============================] - 0s 17ms/step - loss: 0.8639 - accuracy: 0.9167 - val_loss: 0.8261 - val_accuracy: 0.9048\n",
      "Epoch 12/75\n",
      "6/6 [==============================] - 0s 12ms/step - loss: 0.8208 - accuracy: 0.7262 - val_loss: 0.7783 - val_accuracy: 0.7619\n",
      "Epoch 13/75\n",
      "6/6 [==============================] - 0s 10ms/step - loss: 0.7720 - accuracy: 0.7024 - val_loss: 0.7213 - val_accuracy: 0.8095\n",
      "Epoch 14/75\n",
      "6/6 [==============================] - 0s 11ms/step - loss: 0.7244 - accuracy: 0.7381 - val_loss: 0.6709 - val_accuracy: 0.7619\n",
      "Epoch 15/75\n",
      "6/6 [==============================] - 0s 11ms/step - loss: 0.6782 - accuracy: 0.7024 - val_loss: 0.6200 - val_accuracy: 0.7619\n",
      "Epoch 16/75\n",
      "6/6 [==============================] - 0s 10ms/step - loss: 0.6372 - accuracy: 0.6786 - val_loss: 0.5765 - val_accuracy: 0.7619\n",
      "Epoch 17/75\n",
      "6/6 [==============================] - 0s 11ms/step - loss: 0.5969 - accuracy: 0.8333 - val_loss: 0.5362 - val_accuracy: 0.9524\n",
      "Epoch 18/75\n",
      "6/6 [==============================] - 0s 12ms/step - loss: 0.5578 - accuracy: 0.9286 - val_loss: 0.5010 - val_accuracy: 0.9524\n",
      "Epoch 19/75\n",
      "6/6 [==============================] - 0s 14ms/step - loss: 0.5255 - accuracy: 0.9286 - val_loss: 0.4681 - val_accuracy: 0.9524\n",
      "Epoch 20/75\n",
      "6/6 [==============================] - 0s 11ms/step - loss: 0.4949 - accuracy: 0.9524 - val_loss: 0.4382 - val_accuracy: 0.9524\n",
      "Epoch 21/75\n",
      "6/6 [==============================] - 0s 13ms/step - loss: 0.4666 - accuracy: 0.9524 - val_loss: 0.4102 - val_accuracy: 0.9524\n",
      "Epoch 22/75\n",
      "6/6 [==============================] - 0s 10ms/step - loss: 0.4416 - accuracy: 0.9524 - val_loss: 0.3854 - val_accuracy: 0.9524\n",
      "Epoch 23/75\n",
      "6/6 [==============================] - 0s 9ms/step - loss: 0.4185 - accuracy: 0.9524 - val_loss: 0.3610 - val_accuracy: 0.9524\n",
      "Epoch 24/75\n",
      "6/6 [==============================] - 0s 11ms/step - loss: 0.3931 - accuracy: 0.9643 - val_loss: 0.3395 - val_accuracy: 0.9524\n",
      "Epoch 25/75\n",
      "6/6 [==============================] - 0s 9ms/step - loss: 0.3714 - accuracy: 0.9643 - val_loss: 0.3178 - val_accuracy: 0.9524\n",
      "Epoch 26/75\n",
      "6/6 [==============================] - 0s 8ms/step - loss: 0.3526 - accuracy: 0.9524 - val_loss: 0.2981 - val_accuracy: 1.0000\n",
      "Epoch 27/75\n",
      "6/6 [==============================] - 0s 10ms/step - loss: 0.3313 - accuracy: 0.9524 - val_loss: 0.2818 - val_accuracy: 1.0000\n",
      "Epoch 28/75\n",
      "6/6 [==============================] - 0s 19ms/step - loss: 0.3161 - accuracy: 0.9405 - val_loss: 0.2741 - val_accuracy: 0.9524\n",
      "Epoch 29/75\n",
      "6/6 [==============================] - 0s 15ms/step - loss: 0.2990 - accuracy: 0.9762 - val_loss: 0.2469 - val_accuracy: 1.0000\n",
      "Epoch 30/75\n",
      "6/6 [==============================] - 0s 14ms/step - loss: 0.2770 - accuracy: 0.9643 - val_loss: 0.2321 - val_accuracy: 0.9524\n",
      "Epoch 31/75\n",
      "6/6 [==============================] - 0s 13ms/step - loss: 0.2792 - accuracy: 0.9643 - val_loss: 0.2168 - val_accuracy: 1.0000\n",
      "Epoch 32/75\n",
      "6/6 [==============================] - 0s 10ms/step - loss: 0.2546 - accuracy: 0.9524 - val_loss: 0.2261 - val_accuracy: 0.9524\n",
      "Epoch 33/75\n",
      "6/6 [==============================] - 0s 7ms/step - loss: 0.2409 - accuracy: 0.9762 - val_loss: 0.1925 - val_accuracy: 1.0000\n",
      "Epoch 34/75\n",
      "6/6 [==============================] - 0s 10ms/step - loss: 0.2420 - accuracy: 0.9524 - val_loss: 0.1820 - val_accuracy: 1.0000\n",
      "Epoch 35/75\n",
      "6/6 [==============================] - 0s 10ms/step - loss: 0.2213 - accuracy: 0.9643 - val_loss: 0.1789 - val_accuracy: 1.0000\n",
      "Epoch 36/75\n",
      "6/6 [==============================] - 0s 7ms/step - loss: 0.2024 - accuracy: 0.9643 - val_loss: 0.1631 - val_accuracy: 1.0000\n",
      "Epoch 37/75\n",
      "6/6 [==============================] - 0s 11ms/step - loss: 0.1991 - accuracy: 0.9524 - val_loss: 0.1563 - val_accuracy: 1.0000\n",
      "Epoch 38/75\n",
      "6/6 [==============================] - 0s 11ms/step - loss: 0.1858 - accuracy: 0.9643 - val_loss: 0.1491 - val_accuracy: 1.0000\n",
      "Epoch 39/75\n",
      "6/6 [==============================] - 0s 10ms/step - loss: 0.1822 - accuracy: 0.9524 - val_loss: 0.1422 - val_accuracy: 1.0000\n",
      "Epoch 40/75\n",
      "6/6 [==============================] - 0s 16ms/step - loss: 0.1693 - accuracy: 0.9643 - val_loss: 0.1325 - val_accuracy: 1.0000\n",
      "Epoch 41/75\n",
      "6/6 [==============================] - 0s 13ms/step - loss: 0.1662 - accuracy: 0.9643 - val_loss: 0.1298 - val_accuracy: 1.0000\n",
      "Epoch 42/75\n",
      "6/6 [==============================] - 0s 8ms/step - loss: 0.1576 - accuracy: 0.9643 - val_loss: 0.1206 - val_accuracy: 1.0000\n",
      "Epoch 43/75\n",
      "6/6 [==============================] - 0s 12ms/step - loss: 0.1550 - accuracy: 0.9524 - val_loss: 0.1205 - val_accuracy: 1.0000\n",
      "Epoch 44/75\n",
      "6/6 [==============================] - 0s 10ms/step - loss: 0.1525 - accuracy: 0.9762 - val_loss: 0.1170 - val_accuracy: 1.0000\n",
      "Epoch 45/75\n",
      "6/6 [==============================] - 0s 10ms/step - loss: 0.1438 - accuracy: 0.9762 - val_loss: 0.1086 - val_accuracy: 1.0000\n",
      "Epoch 46/75\n",
      "6/6 [==============================] - 0s 11ms/step - loss: 0.1420 - accuracy: 0.9643 - val_loss: 0.1052 - val_accuracy: 1.0000\n",
      "Epoch 47/75\n",
      "6/6 [==============================] - 0s 10ms/step - loss: 0.1359 - accuracy: 0.9524 - val_loss: 0.0988 - val_accuracy: 1.0000\n",
      "Epoch 48/75\n",
      "6/6 [==============================] - 0s 8ms/step - loss: 0.1386 - accuracy: 0.9524 - val_loss: 0.0953 - val_accuracy: 1.0000\n",
      "Epoch 49/75\n",
      "6/6 [==============================] - 0s 9ms/step - loss: 0.1406 - accuracy: 0.9643 - val_loss: 0.1011 - val_accuracy: 1.0000\n",
      "Epoch 50/75\n",
      "6/6 [==============================] - 0s 9ms/step - loss: 0.1205 - accuracy: 0.9762 - val_loss: 0.0901 - val_accuracy: 1.0000\n",
      "Epoch 51/75\n",
      "6/6 [==============================] - 0s 8ms/step - loss: 0.1418 - accuracy: 0.9643 - val_loss: 0.0863 - val_accuracy: 1.0000\n",
      "Epoch 52/75\n",
      "6/6 [==============================] - 0s 10ms/step - loss: 0.1398 - accuracy: 0.9286 - val_loss: 0.1118 - val_accuracy: 0.9524\n",
      "Epoch 53/75\n",
      "6/6 [==============================] - 0s 10ms/step - loss: 0.1212 - accuracy: 0.9524 - val_loss: 0.0818 - val_accuracy: 1.0000\n",
      "Epoch 54/75\n",
      "6/6 [==============================] - 0s 8ms/step - loss: 0.1412 - accuracy: 0.9643 - val_loss: 0.0896 - val_accuracy: 0.9524\n",
      "Epoch 55/75\n",
      "6/6 [==============================] - 0s 9ms/step - loss: 0.1148 - accuracy: 0.9524 - val_loss: 0.0965 - val_accuracy: 0.9524\n",
      "Epoch 56/75\n",
      "6/6 [==============================] - 0s 16ms/step - loss: 0.1189 - accuracy: 0.9762 - val_loss: 0.0773 - val_accuracy: 1.0000\n",
      "Epoch 57/75\n",
      "6/6 [==============================] - 0s 12ms/step - loss: 0.1288 - accuracy: 0.9643 - val_loss: 0.0824 - val_accuracy: 0.9524\n",
      "Epoch 58/75\n",
      "6/6 [==============================] - 0s 9ms/step - loss: 0.1166 - accuracy: 0.9524 - val_loss: 0.0988 - val_accuracy: 0.9524\n",
      "Epoch 59/75\n",
      "6/6 [==============================] - 0s 11ms/step - loss: 0.1217 - accuracy: 0.9405 - val_loss: 0.0779 - val_accuracy: 1.0000\n"
     ]
    },
    {
     "name": "stdout",
     "output_type": "stream",
     "text": [
      "Epoch 60/75\n",
      "6/6 [==============================] - 0s 9ms/step - loss: 0.1097 - accuracy: 0.9762 - val_loss: 0.0714 - val_accuracy: 1.0000\n",
      "Epoch 61/75\n",
      "6/6 [==============================] - 0s 9ms/step - loss: 0.1076 - accuracy: 0.9524 - val_loss: 0.0735 - val_accuracy: 1.0000\n",
      "Epoch 62/75\n",
      "6/6 [==============================] - 0s 18ms/step - loss: 0.1042 - accuracy: 0.9643 - val_loss: 0.0672 - val_accuracy: 1.0000\n",
      "Epoch 63/75\n",
      "6/6 [==============================] - 0s 11ms/step - loss: 0.1026 - accuracy: 0.9524 - val_loss: 0.0664 - val_accuracy: 1.0000\n",
      "Epoch 64/75\n",
      "6/6 [==============================] - 0s 9ms/step - loss: 0.0984 - accuracy: 0.9643 - val_loss: 0.0706 - val_accuracy: 1.0000\n",
      "Epoch 65/75\n",
      "6/6 [==============================] - 0s 11ms/step - loss: 0.1051 - accuracy: 0.9524 - val_loss: 0.0630 - val_accuracy: 1.0000\n",
      "Epoch 66/75\n",
      "6/6 [==============================] - 0s 9ms/step - loss: 0.1014 - accuracy: 0.9524 - val_loss: 0.0621 - val_accuracy: 1.0000\n",
      "Epoch 67/75\n",
      "6/6 [==============================] - 0s 11ms/step - loss: 0.0945 - accuracy: 0.9643 - val_loss: 0.0664 - val_accuracy: 1.0000\n",
      "Epoch 68/75\n",
      "6/6 [==============================] - 0s 16ms/step - loss: 0.0984 - accuracy: 0.9524 - val_loss: 0.0601 - val_accuracy: 1.0000\n",
      "Epoch 69/75\n",
      "6/6 [==============================] - 0s 10ms/step - loss: 0.0966 - accuracy: 0.9524 - val_loss: 0.0624 - val_accuracy: 1.0000\n",
      "Epoch 70/75\n",
      "6/6 [==============================] - 0s 8ms/step - loss: 0.0945 - accuracy: 0.9762 - val_loss: 0.0610 - val_accuracy: 1.0000\n",
      "Epoch 71/75\n",
      "6/6 [==============================] - 0s 9ms/step - loss: 0.0951 - accuracy: 0.9643 - val_loss: 0.0587 - val_accuracy: 1.0000\n",
      "Epoch 72/75\n",
      "6/6 [==============================] - 0s 9ms/step - loss: 0.0934 - accuracy: 0.9643 - val_loss: 0.0614 - val_accuracy: 1.0000\n",
      "Epoch 73/75\n",
      "6/6 [==============================] - 0s 8ms/step - loss: 0.0887 - accuracy: 0.9643 - val_loss: 0.0559 - val_accuracy: 1.0000\n",
      "Epoch 74/75\n",
      "6/6 [==============================] - 0s 9ms/step - loss: 0.0906 - accuracy: 0.9524 - val_loss: 0.0558 - val_accuracy: 1.0000\n",
      "Epoch 75/75\n",
      "6/6 [==============================] - 0s 10ms/step - loss: 0.0889 - accuracy: 0.9643 - val_loss: 0.0559 - val_accuracy: 1.0000\n"
     ]
    },
    {
     "data": {
      "text/plain": [
       "<keras.callbacks.History at 0x1e337b93190>"
      ]
     },
     "execution_count": 24,
     "metadata": {},
     "output_type": "execute_result"
    }
   ],
   "source": [
    "# class_weights = {\n",
    "#     0: 1.0,  # peso da classe 0\n",
    "#     1: 1.0,  # peso da classe 1\n",
    "#     2: 1.0,  # peso da classe 2\n",
    "# }\n",
    "\n",
    "model.fit(X_train,\n",
    "          y_train,\n",
    "          validation_split=0.2,\n",
    "          batch_size=16,\n",
    "          epochs=50,\n",
    "          verbose=1,\n",
    "        #   class_weight=class_weights\n",
    "          )"
   ]
  },
  {
   "attachments": {},
   "cell_type": "markdown",
   "id": "3e660c7b",
   "metadata": {},
   "source": [
    "### Testar"
   ]
  },
  {
   "cell_type": "code",
   "execution_count": 26,
   "id": "b3297df2",
   "metadata": {},
   "outputs": [
    {
     "name": "stdout",
     "output_type": "stream",
     "text": [
      "1/1 [==============================] - 0s 82ms/step\n",
      "Matriz de Confusão:\n",
      "[[6 0 0]\n",
      " [0 5 0]\n",
      " [0 0 4]]\n",
      "Acurácia: 1.0\n",
      "Pontuação F1: 1.0\n"
     ]
    }
   ],
   "source": [
    "# Fazer previsões nos dados de teste\n",
    "y_pred = model.predict(X_test)\n",
    "y_pred_classes = np.argmax(y_pred, axis=1)\n",
    "\n",
    "# Calcular a matriz de confusão\n",
    "matriz_confusao = confusion_matrix(np.argmax(y_test, axis=1), y_pred_classes)\n",
    "\n",
    "# Calcular a acurácia\n",
    "acuracia = accuracy_score(np.argmax(y_test, axis=1), y_pred_classes)\n",
    "\n",
    "# Calcular a pontuação F1\n",
    "f1 = f1_score(np.argmax(y_test, axis=1), y_pred_classes, average='macro')\n",
    "\n",
    "print(\"Matriz de Confusão:\")\n",
    "print(matriz_confusao)\n",
    "print(\"Acurácia:\", acuracia)\n",
    "print(\"Pontuação F1:\", f1)\n"
   ]
  },
  {
   "cell_type": "code",
   "execution_count": null,
   "id": "ee81bf37",
   "metadata": {},
   "outputs": [],
   "source": []
  }
 ],
 "metadata": {
  "kernelspec": {
   "display_name": "Python 3 (ipykernel)",
   "language": "python",
   "name": "python3"
  },
  "language_info": {
   "codemirror_mode": {
    "name": "ipython",
    "version": 3
   },
   "file_extension": ".py",
   "mimetype": "text/x-python",
   "name": "python",
   "nbconvert_exporter": "python",
   "pygments_lexer": "ipython3",
   "version": "3.11.3"
  }
 },
 "nbformat": 4,
 "nbformat_minor": 5
}

{
 "cells": [
  {
   "cell_type": "code",
   "execution_count": 78,
   "metadata": {},
   "outputs": [],
   "source": [
    "import cv2\n",
    "import numpy as np\n",
    "import matplotlib.pyplot as plt\n",
    "import math\n",
    "import csv\n",
    "import pandas as pd\n",
    "\n",
    "%matplotlib inline\n"
   ]
  },
  {
   "cell_type": "code",
   "execution_count": 79,
   "metadata": {},
   "outputs": [],
   "source": [
    "imagem = cv2.imread('Imagens\\IMG (1).bmp',0)\n",
    "#plt.imshow(imagem)\n"
   ]
  },
  {
   "cell_type": "code",
   "execution_count": 80,
   "metadata": {},
   "outputs": [],
   "source": [
    "#Colocando bordas na imagem\n",
    "imagem = cv2.copyMakeBorder(imagem, 50, 50, 50, 50, cv2.BORDER_REPLICATE)\n",
    "imagem_original = imagem\n",
    "\n",
    "#Borra bastante\n",
    "imagem = cv2.GaussianBlur(imagem,(75,75),0)\n",
    "#plt.imshow(imagem, cmap='gray')"
   ]
  },
  {
   "attachments": {},
   "cell_type": "markdown",
   "metadata": {},
   "source": [
    "Limiar binary invertido + limiar de OTSU\n",
    "o método de Otsu determina um valor de limite global ideal a partir do histograma da imagem"
   ]
  },
  {
   "cell_type": "code",
   "execution_count": 81,
   "metadata": {},
   "outputs": [],
   "source": [
    "limiar, imagem_limiar = cv2.threshold(imagem,0,255,cv2.THRESH_BINARY_INV+cv2.THRESH_OTSU )\n",
    "\n",
    "imagem_limiar_255 = imagem_limiar*255\n",
    "imagem_limiar_255 = imagem_limiar_255.astype(np.uint8)\n",
    "#plt.imshow(imagem_limiar_255, cmap='gray')"
   ]
  },
  {
   "cell_type": "code",
   "execution_count": 82,
   "metadata": {},
   "outputs": [],
   "source": [
    "\n",
    "# Encontrando os contornos na imagem\n",
    "contornos, void = cv2.findContours(imagem_limiar, cv2.RETR_EXTERNAL, cv2.CHAIN_APPROX_SIMPLE)\n",
    "\n",
    "# Desenhar os contornos na imagem original\n",
    "#imagem_contornos = cv2.drawContours(cv2.cvtColor(imagem_original, cv2.COLOR_BAYER_BG2BGRA), contornos, -1, (255,0,0), -5)\n",
    "\n",
    "#lt.imshow(imagem_contornos)"
   ]
  },
  {
   "attachments": {},
   "cell_type": "markdown",
   "metadata": {},
   "source": [
    "Aqui temos o numero de objetos na imagem, que vai ser igual ao numero de bordas encontradas\n",
    "    - vai dar ruim quando um objeto esta em cima de outro, ai não tem o que fazer"
   ]
  },
  {
   "cell_type": "code",
   "execution_count": 83,
   "metadata": {},
   "outputs": [
    {
     "data": {
      "text/plain": [
       "8"
      ]
     },
     "execution_count": 83,
     "metadata": {},
     "output_type": "execute_result"
    }
   ],
   "source": [
    "size = len(contornos)\n",
    "size"
   ]
  },
  {
   "cell_type": "code",
   "execution_count": 84,
   "metadata": {},
   "outputs": [
    {
     "name": "stdout",
     "output_type": "stream",
     "text": [
      "Compacidade:  17.593852125534255\n",
      "circulatidade:  0.7142478250184555\n",
      "Solidez:  0.9783509742061607\n",
      "Razão Eixos:  0.6290194223429073\n",
      "Extent :  0.6602924900118777\n",
      "73.22259821555596\n",
      "Compacidade:  17.493575351274114\n",
      "circulatidade:  0.718342040550557\n",
      "Solidez:  0.9900445790658076\n",
      "Razão Eixos:  0.5970973703011282\n",
      "Extent :  0.6608081096516276\n",
      "47.16151273652628\n",
      "Compacidade:  24.62674146972411\n",
      "circulatidade:  0.5102733802524444\n",
      "Solidez:  0.9397854763445388\n",
      "Razão Eixos:  0.3654295785298962\n",
      "Extent :  0.5992791211478172\n",
      "56.027620427381386\n",
      "Compacidade:  17.68359114495889\n",
      "circulatidade:  0.7106232275643571\n",
      "Solidez:  0.9528082437669882\n",
      "Razão Eixos:  0.7376462179619397\n",
      "Extent :  0.6404120213520328\n",
      "49.86570194897494\n",
      "Compacidade:  28.935043144160094\n",
      "circulatidade:  0.4342959003638264\n",
      "Solidez:  0.9574367145261198\n",
      "Razão Eixos:  0.2738380971574839\n",
      "Extent :  0.4548203017366013\n",
      "48.30200053024983\n",
      "Compacidade:  17.711818306173214\n",
      "circulatidade:  0.7094907138912628\n",
      "Solidez:  0.9892891421970424\n",
      "Razão Eixos:  0.5298248819180862\n",
      "Extent :  0.635531255456609\n",
      "39.46581145482808\n",
      "Compacidade:  17.86745949344275\n",
      "circulatidade:  0.7033104297211897\n",
      "Solidez:  0.9805601281677191\n",
      "Razão Eixos:  0.5482397812663042\n",
      "Extent :  0.671401375930638\n",
      "68.19110790594708\n",
      "Compacidade:  20.189985244189646\n",
      "circulatidade:  0.6224061316724129\n",
      "Solidez:  0.9752585809489283\n",
      "Razão Eixos:  0.4280884124842275\n",
      "Extent :  0.615545197740113\n",
      "47.92063839689014\n"
     ]
    },
    {
     "name": "stderr",
     "output_type": "stream",
     "text": [
      "C:\\Users\\bianc\\AppData\\Local\\Temp\\ipykernel_13404\\2335983434.py:79: FutureWarning: The frame.append method is deprecated and will be removed from pandas in a future version. Use pandas.concat instead.\n",
      "  df = df.append({'Compacidade': [compacidade], 'Circularidade': [circularidade]}, ignore_index=True)\n",
      "C:\\Users\\bianc\\AppData\\Local\\Temp\\ipykernel_13404\\2335983434.py:79: FutureWarning: The frame.append method is deprecated and will be removed from pandas in a future version. Use pandas.concat instead.\n",
      "  df = df.append({'Compacidade': [compacidade], 'Circularidade': [circularidade]}, ignore_index=True)\n",
      "C:\\Users\\bianc\\AppData\\Local\\Temp\\ipykernel_13404\\2335983434.py:79: FutureWarning: The frame.append method is deprecated and will be removed from pandas in a future version. Use pandas.concat instead.\n",
      "  df = df.append({'Compacidade': [compacidade], 'Circularidade': [circularidade]}, ignore_index=True)\n",
      "C:\\Users\\bianc\\AppData\\Local\\Temp\\ipykernel_13404\\2335983434.py:79: FutureWarning: The frame.append method is deprecated and will be removed from pandas in a future version. Use pandas.concat instead.\n",
      "  df = df.append({'Compacidade': [compacidade], 'Circularidade': [circularidade]}, ignore_index=True)\n",
      "C:\\Users\\bianc\\AppData\\Local\\Temp\\ipykernel_13404\\2335983434.py:79: FutureWarning: The frame.append method is deprecated and will be removed from pandas in a future version. Use pandas.concat instead.\n",
      "  df = df.append({'Compacidade': [compacidade], 'Circularidade': [circularidade]}, ignore_index=True)\n",
      "C:\\Users\\bianc\\AppData\\Local\\Temp\\ipykernel_13404\\2335983434.py:79: FutureWarning: The frame.append method is deprecated and will be removed from pandas in a future version. Use pandas.concat instead.\n",
      "  df = df.append({'Compacidade': [compacidade], 'Circularidade': [circularidade]}, ignore_index=True)\n",
      "C:\\Users\\bianc\\AppData\\Local\\Temp\\ipykernel_13404\\2335983434.py:79: FutureWarning: The frame.append method is deprecated and will be removed from pandas in a future version. Use pandas.concat instead.\n",
      "  df = df.append({'Compacidade': [compacidade], 'Circularidade': [circularidade]}, ignore_index=True)\n",
      "C:\\Users\\bianc\\AppData\\Local\\Temp\\ipykernel_13404\\2335983434.py:79: FutureWarning: The frame.append method is deprecated and will be removed from pandas in a future version. Use pandas.concat instead.\n",
      "  df = df.append({'Compacidade': [compacidade], 'Circularidade': [circularidade]}, ignore_index=True)\n"
     ]
    }
   ],
   "source": [
    "df = pd.DataFrame()\n",
    "\n",
    "\n",
    "for cnt in contornos:\n",
    "    #area\n",
    "    area = cv2.contourArea(cnt)\n",
    "    \n",
    "    #perimetro\n",
    "    perimetro = cv2.arcLength(cnt,True)\n",
    "\n",
    "    #compacidade\n",
    "    compacidade = (perimetro**2)/area\n",
    "    print(\"Compacidade: \", compacidade)\n",
    "\n",
    "    #circulatidade\n",
    "    circularidade = (4*np.pi*area)/perimetro**2\n",
    "    print(\"circulatidade: \", circularidade)\n",
    "\n",
    "\n",
    "    #solidez\n",
    "    hull = cv2.convexHull(cnt)\n",
    "    hull_area = cv2.contourArea(hull)\n",
    "    solidity = float(area)/hull_area\n",
    "    print(\"Solidez: \", solidity)\n",
    "\n",
    "    #Cria eclipse envolvente \n",
    "    (xc,yc), (d1,d2), angle  = cv2.fitEllipse(cnt)\n",
    "\n",
    "    #Pegas os pontos do eixo maior\n",
    "    rmajor = max(d1,d2)/2\n",
    "    if angle > 90:\n",
    "        angle = angle - 90\n",
    "    else:\n",
    "        angle = angle + 90\n",
    "\n",
    "    x1 = xc + math.cos(math.radians(angle))*rmajor\n",
    "    y1 = yc + math.sin(math.radians(angle))*rmajor\n",
    "    x2 = xc + math.cos(math.radians(angle+180))*rmajor\n",
    "    y2 = yc + math.sin(math.radians(angle+180))*rmajor\n",
    "    #calcula distancia\n",
    "    eixo_maior = np.sqrt((x2-x1)**2 + (y2-y1)**2)\n",
    "\n",
    "    #Pegas os pontos do eixo menor\n",
    "    rminor = min(d1,d2)/2\n",
    "    if angle > 90:\n",
    "        angle = angle - 90\n",
    "    else:\n",
    "        angle = angle + 90\n",
    "\n",
    "    x1 = xc + math.cos(math.radians(angle))*rminor\n",
    "    y1 = yc + math.sin(math.radians(angle))*rminor\n",
    "    x2 = xc + math.cos(math.radians(angle+180))*rminor\n",
    "    y2 = yc + math.sin(math.radians(angle+180))*rminor\n",
    "    #calcula distancia\n",
    "    eixo_menor = np.sqrt((x2-x1)**2 + (y2-y1)**2)\n",
    "   \n",
    "    #Razão do eixo menor pelo eixo maior\n",
    "    razao_eixos = eixo_menor/eixo_maior\n",
    "    print(\"Razão Eixos: \", razao_eixos)\n",
    "\n",
    "    #Proporção\n",
    "    x,y,w,h = cv2.boundingRect(cnt)\n",
    "    \n",
    "\n",
    "    rect_area = w*h\n",
    "    extent = float(area)/rect_area\n",
    "    print(\"Extent : \", extent)\n",
    "\n",
    "    \n",
    "    mask = np.zeros(imagem.shape,np.uint8)\n",
    "    mask = cv2.drawContours(mask,[cnt],0,255,-1)\n",
    "    #pixelpoints = np.transpose(np.nonzero(mask))\n",
    "\n",
    "    mean_val = cv2.mean(imagem,mask = mask)\n",
    "    print(mean_val[0])\n",
    "    \n",
    "\n",
    "   \n",
    "    df = df.append({'Compacidade': [compacidade], 'Circularidade': [circularidade]}, ignore_index=True)\n",
    "\n",
    "    \n",
    "\n",
    "    #print(df.shape)\n",
    "\n",
    "    #df.to_excel('/home/pi/Área de Trabalho/saidaCamera3.xlsx', index = False)"
   ]
  }
 ],
 "metadata": {
  "kernelspec": {
   "display_name": "Python 3",
   "language": "python",
   "name": "python3"
  },
  "language_info": {
   "codemirror_mode": {
    "name": "ipython",
    "version": 3
   },
   "file_extension": ".py",
   "mimetype": "text/x-python",
   "name": "python",
   "nbconvert_exporter": "python",
   "pygments_lexer": "ipython3",
   "version": "3.10.8"
  },
  "orig_nbformat": 4
 },
 "nbformat": 4,
 "nbformat_minor": 2
}

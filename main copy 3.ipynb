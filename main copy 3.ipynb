{
 "cells": [
  {
   "cell_type": "code",
   "execution_count": 93,
   "metadata": {},
   "outputs": [],
   "source": [
    "import cv2\n",
    "import numpy as np\n",
    "import matplotlib.pyplot as plt\n",
    "import math\n",
    "import pandas as pd\n",
    "from sklearn.preprocessing import normalize\n",
    "import pickle\n",
    "from numpy import array\n",
    "from sklearn.preprocessing import StandardScaler\n",
    "import sys\n",
    "\n",
    "\n",
    "%matplotlib inline\n"
   ]
  },
  {
   "cell_type": "code",
   "execution_count": 94,
   "metadata": {},
   "outputs": [],
   "source": [
    "\n",
    "nome_arquivo = \"Imagens/Validacao/IMG (2).bmp\"\n",
    "\n",
    "imagem = cv2.imread(nome_arquivo,0)\n",
    "#plt.imshow(imagem)\n"
   ]
  },
  {
   "cell_type": "code",
   "execution_count": 95,
   "metadata": {},
   "outputs": [],
   "source": [
    "#Colocando bordas na imagem\n",
    "imagem = cv2.copyMakeBorder(imagem, 50, 50, 50, 50, cv2.BORDER_REPLICATE)\n",
    "imagem_original = imagem\n",
    "\n",
    "#Borra bastante\n",
    "imagem = cv2.GaussianBlur(imagem,(75,75),0)\n",
    "#plt.imshow(imagem, cmap='gray')"
   ]
  },
  {
   "attachments": {},
   "cell_type": "markdown",
   "metadata": {},
   "source": [
    "Limiar binary invertido + limiar de OTSU\n",
    "o método de Otsu determina um valor de limite global ideal a partir do histograma da imagem"
   ]
  },
  {
   "cell_type": "code",
   "execution_count": 96,
   "metadata": {},
   "outputs": [],
   "source": [
    "limiar, imagem_limiar = cv2.threshold(imagem,0,255,cv2.THRESH_BINARY_INV+cv2.THRESH_OTSU )\n",
    "\n",
    "imagem_limiar_255 = imagem_limiar*255\n",
    "imagem_limiar_255 = imagem_limiar_255.astype(np.uint8)\n",
    "#plt.imshow(imagem_limiar_255, cmap='gray')"
   ]
  },
  {
   "cell_type": "code",
   "execution_count": 97,
   "metadata": {},
   "outputs": [],
   "source": [
    "\n",
    "# Encontrando os contornos na imagem\n",
    "contornos, void = cv2.findContours(imagem_limiar, cv2.RETR_EXTERNAL, cv2.CHAIN_APPROX_SIMPLE)\n"
   ]
  },
  {
   "attachments": {},
   "cell_type": "markdown",
   "metadata": {},
   "source": [
    "Aqui temos o numero de objetos na imagem, que vai ser igual ao numero de bordas encontradas"
   ]
  },
  {
   "cell_type": "code",
   "execution_count": 98,
   "metadata": {},
   "outputs": [],
   "source": [
    "size = len(contornos)\n",
    "#size"
   ]
  },
  {
   "cell_type": "code",
   "execution_count": 99,
   "metadata": {},
   "outputs": [
    {
     "name": "stderr",
     "output_type": "stream",
     "text": [
      "C:\\Users\\bianc\\AppData\\Local\\Temp\\ipykernel_20356\\3098652756.py:63: FutureWarning: The frame.append method is deprecated and will be removed from pandas in a future version. Use pandas.concat instead.\n",
      "  df = df.append({'Compacidade': compacidade, 'Circularidade': circularidade, 'Razão Eixos': razao_eixos,  'Intencidade Média': auxiliar}, ignore_index=True)\n",
      "C:\\Users\\bianc\\AppData\\Local\\Temp\\ipykernel_20356\\3098652756.py:63: FutureWarning: The frame.append method is deprecated and will be removed from pandas in a future version. Use pandas.concat instead.\n",
      "  df = df.append({'Compacidade': compacidade, 'Circularidade': circularidade, 'Razão Eixos': razao_eixos,  'Intencidade Média': auxiliar}, ignore_index=True)\n",
      "C:\\Users\\bianc\\AppData\\Local\\Temp\\ipykernel_20356\\3098652756.py:63: FutureWarning: The frame.append method is deprecated and will be removed from pandas in a future version. Use pandas.concat instead.\n",
      "  df = df.append({'Compacidade': compacidade, 'Circularidade': circularidade, 'Razão Eixos': razao_eixos,  'Intencidade Média': auxiliar}, ignore_index=True)\n",
      "C:\\Users\\bianc\\AppData\\Local\\Temp\\ipykernel_20356\\3098652756.py:63: FutureWarning: The frame.append method is deprecated and will be removed from pandas in a future version. Use pandas.concat instead.\n",
      "  df = df.append({'Compacidade': compacidade, 'Circularidade': circularidade, 'Razão Eixos': razao_eixos,  'Intencidade Média': auxiliar}, ignore_index=True)\n",
      "C:\\Users\\bianc\\AppData\\Local\\Temp\\ipykernel_20356\\3098652756.py:63: FutureWarning: The frame.append method is deprecated and will be removed from pandas in a future version. Use pandas.concat instead.\n",
      "  df = df.append({'Compacidade': compacidade, 'Circularidade': circularidade, 'Razão Eixos': razao_eixos,  'Intencidade Média': auxiliar}, ignore_index=True)\n",
      "C:\\Users\\bianc\\AppData\\Local\\Temp\\ipykernel_20356\\3098652756.py:63: FutureWarning: The frame.append method is deprecated and will be removed from pandas in a future version. Use pandas.concat instead.\n",
      "  df = df.append({'Compacidade': compacidade, 'Circularidade': circularidade, 'Razão Eixos': razao_eixos,  'Intencidade Média': auxiliar}, ignore_index=True)\n",
      "C:\\Users\\bianc\\AppData\\Local\\Temp\\ipykernel_20356\\3098652756.py:63: FutureWarning: The frame.append method is deprecated and will be removed from pandas in a future version. Use pandas.concat instead.\n",
      "  df = df.append({'Compacidade': compacidade, 'Circularidade': circularidade, 'Razão Eixos': razao_eixos,  'Intencidade Média': auxiliar}, ignore_index=True)\n",
      "C:\\Users\\bianc\\AppData\\Local\\Temp\\ipykernel_20356\\3098652756.py:63: FutureWarning: The frame.append method is deprecated and will be removed from pandas in a future version. Use pandas.concat instead.\n",
      "  df = df.append({'Compacidade': compacidade, 'Circularidade': circularidade, 'Razão Eixos': razao_eixos,  'Intencidade Média': auxiliar}, ignore_index=True)\n"
     ]
    }
   ],
   "source": [
    "aux = 1\n",
    "df = pd.DataFrame()\n",
    "\n",
    "for cnt in contornos:\n",
    "    #area\n",
    "    area = cv2.contourArea(cnt)\n",
    "        \n",
    "    #perimetro\n",
    "    perimetro = cv2.arcLength(cnt,True)\n",
    "\n",
    "    #compacidade\n",
    "    compacidade = (perimetro**2)/area\n",
    "    #print(\"Compacidade: \", compacidade)\n",
    "\n",
    "    #circulatidade\n",
    "    circularidade = (4*np.pi*area)/perimetro**2\n",
    "    #print(\"circulatidade: \", circulatidade)\n",
    "\n",
    "\n",
    "    #Cria eclipse envolvente \n",
    "    (xc,yc), (d1,d2), angle  = cv2.fitEllipse(cnt)\n",
    "\n",
    "    #Pegas os pontos do eixo maior\n",
    "    rmajor = max(d1,d2)/2\n",
    "    if angle > 90:\n",
    "        angle = angle - 90\n",
    "    else:\n",
    "        angle = angle + 90\n",
    "\n",
    "    x1 = xc + math.cos(math.radians(angle))*rmajor\n",
    "    y1 = yc + math.sin(math.radians(angle))*rmajor\n",
    "    x2 = xc + math.cos(math.radians(angle+180))*rmajor\n",
    "    y2 = yc + math.sin(math.radians(angle+180))*rmajor\n",
    "    #calcula distancia\n",
    "    eixo_maior = np.sqrt((x2-x1)**2 + (y2-y1)**2)\n",
    "\n",
    "    #Pegas os pontos do eixo menor\n",
    "    rminor = min(d1,d2)/2\n",
    "    if angle > 90:\n",
    "        angle = angle - 90\n",
    "    else:\n",
    "        angle = angle + 90\n",
    "\n",
    "    x1 = xc + math.cos(math.radians(angle))*rminor\n",
    "    y1 = yc + math.sin(math.radians(angle))*rminor\n",
    "    x2 = xc + math.cos(math.radians(angle+180))*rminor\n",
    "    y2 = yc + math.sin(math.radians(angle+180))*rminor\n",
    "    #calcula distancia\n",
    "    eixo_menor = np.sqrt((x2-x1)**2 + (y2-y1)**2)\n",
    "\n",
    "    #Razão do eixo menor pelo eixo maior\n",
    "    razao_eixos = eixo_menor/eixo_maior\n",
    "    #print(\"Razão Eixos: \", razao_eixos)\n",
    "\n",
    "    \n",
    "    mask = np.zeros(imagem_original.shape,np.uint8)\n",
    "    mask = cv2.drawContours(mask,[cnt],0,255,-1)\n",
    "    #pixelpoints = np.transpose(np.nonzero(mask))\n",
    "    \n",
    "    mean_val = cv2.mean(imagem_original,mask = mask)\n",
    "    auxiliar = mean_val[0]/255\n",
    "\n",
    "    df = df.append({'Compacidade': compacidade, 'Circularidade': circularidade, 'Razão Eixos': razao_eixos,  'Intencidade Média': auxiliar}, ignore_index=True)\n",
    "\n",
    "    imagem_contornos = cv2.drawContours(cv2.cvtColor(imagem_original, cv2.COLOR_BAYER_BG2BGRA), [cnt], 0, (222,0,0), 3)\n",
    "\n",
    "    cv2.imwrite( str(aux) + \".bmp\", imagem_contornos)\n",
    "    #print(\"Intencidade media : \", razao_eixos)\n",
    "    #print(\"\")\n",
    "\n",
    "    aux += 1\n",
    "\n",
    "df.to_csv('teste.csv', index=False)\n",
    "\n",
    "# Carregar modelo\n",
    "with open('MLP/ClassificadorFolhas.pkl', 'rb') as f:\n",
    "    model = pickle.load(f)\n",
    "\n",
    "data = pd.read_csv('teste.csv')\n",
    "\n",
    "X_normalized = normalize(data, axis=0)\n",
    "\n",
    "sc=StandardScaler()\n",
    "scaler = sc.fit(data)\n",
    "\n",
    "testX_scaled = scaler.transform(data)\n",
    "\n",
    "y_pred = model.predict(testX_scaled)\n",
    "#print(y_pred)"
   ]
  },
  {
   "cell_type": "code",
   "execution_count": 100,
   "metadata": {},
   "outputs": [
    {
     "name": "stdout",
     "output_type": "stream",
     "text": [
      "Arquivo:  Imagens/Validacao/IMG (2).bmp\n",
      "Numero de folhas:  8\n",
      "Folhado ( 2 )\n",
      "Araçá ( 2 )\n",
      "Pessegueiro ( 1 )\n",
      "Coleus ( 1 )\n",
      "Uva do mato ( 2 )\n"
     ]
    }
   ],
   "source": [
    "F = 0\n",
    "A = 0\n",
    "Q = 0\n",
    "P = 0\n",
    "C = 0\n",
    "U = 0\n",
    "\n",
    "for x in y_pred:\n",
    "    if x == 0:\n",
    "        F += 1\n",
    "    if x == 1:\n",
    "        A += 1\n",
    "    if x == 2:\n",
    "        Q += 1\n",
    "    if x == 3:\n",
    "        P += 1\n",
    "    if x == 4:\n",
    "        C += 1\n",
    "    if x == 5:\n",
    "        U += 1\n",
    "\n",
    "print(\"Arquivo: \", nome_arquivo)\n",
    "print(\"Numero de folhas: \", size)\n",
    "if F > 0:\n",
    "    print(\"Folhado (\", F,\")\")\n",
    "if A > 0:\n",
    "    print(\"Araçá (\", A,\")\")\n",
    "if Q > 0:\n",
    "    print(\"Quaresmeira (\", Q,\")\")\n",
    "if P > 0:\n",
    "    print(\"Pessegueiro (\", P,\")\")\n",
    "if C > 0:\n",
    "    print(\"Coleus (\", C,\")\")\n",
    "if U > 0:\n",
    "    print(\"Uva do mato (\", U,\")\")"
   ]
  }
 ],
 "metadata": {
  "kernelspec": {
   "display_name": "Python 3",
   "language": "python",
   "name": "python3"
  },
  "language_info": {
   "codemirror_mode": {
    "name": "ipython",
    "version": 3
   },
   "file_extension": ".py",
   "mimetype": "text/x-python",
   "name": "python",
   "nbconvert_exporter": "python",
   "pygments_lexer": "ipython3",
   "version": "3.10.8"
  },
  "orig_nbformat": 4
 },
 "nbformat": 4,
 "nbformat_minor": 2
}
